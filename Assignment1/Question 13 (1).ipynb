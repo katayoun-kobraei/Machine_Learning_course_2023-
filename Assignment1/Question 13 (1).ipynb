{
 "cells": [
  {
   "cell_type": "markdown",
   "id": "5a77ee91",
   "metadata": {},
   "source": [
    "# Implement batch gradient descent with early stopping"
   ]
  },
  {
   "cell_type": "markdown",
   "id": "8576de21",
   "metadata": {},
   "source": [
    "## importing needed libraries"
   ]
  },
  {
   "cell_type": "code",
   "execution_count": 144,
   "id": "0913fc9f",
   "metadata": {},
   "outputs": [],
   "source": [
    "import pandas as pd\n",
    "import numpy as np\n",
    "from sklearn.model_selection import train_test_split\n",
    "from sklearn.utils import shuffle\n",
    "import matplotlib.pyplot as plt\n",
    "from sklearn.preprocessing import StandardScaler\n",
    "import seaborn as sns\n",
    "from sklearn.preprocessing import LabelEncoder\n",
    "from sklearn import preprocessing\n"
   ]
  },
  {
   "cell_type": "markdown",
   "id": "8a52011c",
   "metadata": {},
   "source": [
    "## Load the penguins dataset"
   ]
  },
  {
   "cell_type": "code",
   "execution_count": 133,
   "id": "c6eb0e6b",
   "metadata": {},
   "outputs": [],
   "source": [
    "data = sns.load_dataset('penguins')"
   ]
  },
  {
   "cell_type": "markdown",
   "id": "1cc2d446",
   "metadata": {},
   "source": [
    "## Split the data into train and validation sets"
   ]
  },
  {
   "cell_type": "code",
   "execution_count": 135,
   "id": "30b1d32f",
   "metadata": {},
   "outputs": [],
   "source": [
    "X_train, X_test, y_train, y_test = train_test_split(X, y, test_size=0.2, random_state=42)"
   ]
  },
  {
   "cell_type": "code",
   "execution_count": 136,
   "id": "79c5dc4d",
   "metadata": {},
   "outputs": [],
   "source": [
    "scaler = StandardScaler()\n",
    "X_train = scaler.fit_transform(X_train)\n",
    "X_test = scaler.transform(X_test)"
   ]
  },
  {
   "cell_type": "markdown",
   "id": "53520d73",
   "metadata": {},
   "source": [
    "## define the softmax function"
   ]
  },
  {
   "cell_type": "code",
   "execution_count": 137,
   "id": "9988ea86",
   "metadata": {},
   "outputs": [],
   "source": [
    "def softmax(z):\n",
    "    return np.exp(z) / np.sum(np.exp(z), axis=1, keepdims=True)"
   ]
  },
  {
   "cell_type": "markdown",
   "id": "985bf27a",
   "metadata": {},
   "source": [
    "## Defining model"
   ]
  },
  {
   "cell_type": "code",
   "execution_count": 142,
   "id": "e71e2cb6",
   "metadata": {},
   "outputs": [],
   "source": [
    "class Model:\n",
    "    def __init__(self, n_features, n_classes, learning_rate=0.1, max_iter=1000, tol=1e-4, verbose=False):\n",
    "        self.n_features = n_features\n",
    "        self.n_classes = n_classes\n",
    "        self.learning_rate = learning_rate\n",
    "        self.max_iter = max_iter\n",
    "        self.tol = tol\n",
    "        self.verbose = verbose\n",
    "    \n",
    "    def fit(self, X, y):\n",
    "        X = np.hstack((np.ones((X.shape[0], 1)), X))\n",
    "        y = pd.get_dummies(y).values\n",
    "        \n",
    "        self.W = np.random.randn(self.n_features + 1, self.n_classes) * 0.01\n",
    "        \n",
    "        train_losses = []\n",
    "        val_losses = []\n",
    "        for i in range(self.max_iter):\n",
    "            y_pred = softmax(X @ self.W)\n",
    "            train_loss = -np.sum(y * np.log(y_pred)) / X.shape[0]\n",
    "            train_losses.append(train_loss)\n",
    "            grad = X.T @ (y_pred - y) / X.shape[0]\n",
    "            self.W -= self.learning_rate * grad\n",
    "            if self.verbose and i % 10 == 0:\n",
    "                y_val_pred = softmax(X_val @ self.W)\n",
    "                val_loss = -np.sum(y_val * np.log(y_val_pred)) / X_val.shape[0]\n",
    "                val_losses.append(val_loss)\n",
    "                print(f\"Iteration {i}: Train Loss = {train_loss:.4f}, Val Loss = {val_loss:.4f}\")\n",
    "                if len(val_losses) > 1 and val_losses[-1] > val_losses[-2] - self.tol:\n",
    "                    print(f\"Stopped early after {i} iterations\")\n",
    "                    break\n",
    "                    \n",
    "        self.train_losses = train_losses\n",
    "        self.val_losses = val_losses\n",
    "    \n",
    "    def predict(self, X):\n",
    "        X = np.hstack((np.ones((X.shape[0], 1)), X))\n",
    "        y_pred = softmax(X @ self.W)\n",
    "        y_pred = np.argmax(y_pred, axis=1)\n",
    "        \n",
    "        return y_pred"
   ]
  },
  {
   "cell_type": "markdown",
   "id": "e1cd6ee1",
   "metadata": {},
   "source": [
    "## Train the model using batch gradient descent with early stoping"
   ]
  },
  {
   "cell_type": "code",
   "execution_count": 143,
   "id": "54c20a06",
   "metadata": {},
   "outputs": [],
   "source": [
    "model = Model(n_features=X_train.shape[1], n_classes=len(np.unique(y_train)))"
   ]
  },
  {
   "cell_type": "code",
   "execution_count": 141,
   "id": "8f963f46",
   "metadata": {},
   "outputs": [],
   "source": [
    "model.fit(X_train, y_train)"
   ]
  },
  {
   "cell_type": "code",
   "execution_count": 123,
   "id": "09b4dcb4",
   "metadata": {},
   "outputs": [],
   "source": [
    "y_pred = model.predict(X_test)"
   ]
  },
  {
   "cell_type": "code",
   "execution_count": 145,
   "id": "5fd488b2",
   "metadata": {},
   "outputs": [
    {
     "name": "stdout",
     "output_type": "stream",
     "text": [
      "[0 2 0 1 0 2 2 1 1 1 0 0 2 0 2 0 0 1 0 2 0 0 2 1 0 0 2 2 1 2 1 2 0 0 2 2 1\n",
      " 2 0 0 0 0 1 1 0 0 2 0 0 2 0 2 2 0 0 2 0 0 1 1 2 2 2 0 0 2 0]\n"
     ]
    }
   ],
   "source": [
    "labels = np.array(['Adelie', 'Gentoo', 'Adelie', 'Chinstrap', 'Adelie', 'Gentoo',\n",
    "   'Gentoo', 'Chinstrap', 'Chinstrap', 'Chinstrap', 'Adelie',\n",
    "   'Adelie', 'Gentoo', 'Adelie', 'Gentoo', 'Adelie', 'Adelie',\n",
    "   'Chinstrap', 'Adelie', 'Gentoo', 'Adelie', 'Adelie', 'Gentoo',\n",
    "   'Chinstrap', 'Adelie', 'Adelie', 'Gentoo', 'Gentoo', 'Chinstrap',\n",
    "   'Gentoo', 'Chinstrap', 'Gentoo', 'Adelie', 'Adelie', 'Gentoo',\n",
    "   'Gentoo', 'Chinstrap', 'Gentoo', 'Adelie', 'Adelie', 'Adelie',\n",
    "   'Adelie', 'Chinstrap', 'Chinstrap', 'Adelie', 'Adelie', 'Gentoo',\n",
    "   'Adelie', 'Adelie', 'Gentoo', 'Adelie', 'Gentoo', 'Gentoo',\n",
    "   'Adelie', 'Adelie', 'Gentoo', 'Adelie', 'Adelie', 'Chinstrap',\n",
    "   'Chinstrap', 'Gentoo', 'Gentoo', 'Gentoo', 'Adelie', 'Adelie',\n",
    "   'Gentoo', 'Adelie'])\n",
    "label_encoder = LabelEncoder()\n",
    "labels_encoded = label_encoder.fit_transform(labels)\n",
    "print(labels_encoded)"
   ]
  },
  {
   "cell_type": "code",
   "execution_count": 148,
   "id": "9b54c863",
   "metadata": {},
   "outputs": [
    {
     "name": "stdout",
     "output_type": "stream",
     "text": [
      "Accuracy =  1.0\n"
     ]
    }
   ],
   "source": [
    "accuracy = np.mean(y_pred == labels_encoded)\n",
    "print(\"Accuracy = \", accuracy)"
   ]
  },
  {
   "cell_type": "code",
   "execution_count": null,
   "id": "cc9cebaa",
   "metadata": {},
   "outputs": [],
   "source": []
  }
 ],
 "metadata": {
  "kernelspec": {
   "display_name": "Python 3 (ipykernel)",
   "language": "python",
   "name": "python3"
  },
  "language_info": {
   "codemirror_mode": {
    "name": "ipython",
    "version": 3
   },
   "file_extension": ".py",
   "mimetype": "text/x-python",
   "name": "python",
   "nbconvert_exporter": "python",
   "pygments_lexer": "ipython3",
   "version": "3.9.13"
  }
 },
 "nbformat": 4,
 "nbformat_minor": 5
}
