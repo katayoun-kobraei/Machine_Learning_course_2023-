{
 "cells": [
  {
   "cell_type": "markdown",
   "id": "57c511aa",
   "metadata": {},
   "source": [
    "## Forward and Backward Feature selection algorithms"
   ]
  },
  {
   "cell_type": "markdown",
   "id": "48d0949b",
   "metadata": {},
   "source": [
    "## importing needed libraries"
   ]
  },
  {
   "cell_type": "code",
   "execution_count": 27,
   "id": "05c5c242",
   "metadata": {},
   "outputs": [],
   "source": [
    "import numpy as np\n",
    "import pandas as pd\n",
    "from sklearn.datasets import load_diabetes\n",
    "from sklearn.linear_model import LinearRegression"
   ]
  },
  {
   "cell_type": "markdown",
   "id": "96aa4d02",
   "metadata": {},
   "source": [
    "## importing data "
   ]
  },
  {
   "cell_type": "code",
   "execution_count": 28,
   "id": "68583928",
   "metadata": {},
   "outputs": [],
   "source": [
    "diabetes = load_diabetes() "
   ]
  },
  {
   "cell_type": "code",
   "execution_count": 29,
   "id": "6642091b",
   "metadata": {},
   "outputs": [],
   "source": [
    "X = diabetes.data "
   ]
  },
  {
   "cell_type": "code",
   "execution_count": 30,
   "id": "19d1c85f",
   "metadata": {},
   "outputs": [],
   "source": [
    "y = diabetes.target "
   ]
  },
  {
   "cell_type": "markdown",
   "id": "45af6bf9",
   "metadata": {},
   "source": [
    "## normalizing data"
   ]
  },
  {
   "cell_type": "code",
   "execution_count": 32,
   "id": "d533bbbb",
   "metadata": {},
   "outputs": [],
   "source": [
    "from sklearn.preprocessing import MinMaxScaler\n",
    "mmscaler = MinMaxScaler()"
   ]
  },
  {
   "cell_type": "code",
   "execution_count": 39,
   "id": "a3ca3183",
   "metadata": {},
   "outputs": [],
   "source": [
    "X = diabetes.data\n",
    "y = diabetes.target"
   ]
  },
  {
   "cell_type": "code",
   "execution_count": 43,
   "id": "10758a80",
   "metadata": {},
   "outputs": [],
   "source": [
    "X = mmscaler.fit_transform(X)"
   ]
  },
  {
   "cell_type": "markdown",
   "id": "e5ca352c",
   "metadata": {},
   "source": [
    "## implementing forward function"
   ]
  },
  {
   "cell_type": "code",
   "execution_count": 44,
   "id": "824cb055",
   "metadata": {},
   "outputs": [],
   "source": [
    "def forward_feature_selection(X, y):\n",
    "    n_features = X.shape[1]\n",
    "    remaining_features = set(range(n_features))\n",
    "    selected_features = []\n",
    "    mse_history = []\n",
    "    best_mse = np.inf\n",
    "    \n",
    "    while remaining_features:\n",
    "        candidate_mse = []\n",
    "        for feature in remaining_features:\n",
    "            features = selected_features + [feature]\n",
    "            X_subset = X[:, features]\n",
    "            model = LinearRegression().fit(X_subset, y)\n",
    "            y_pred = model.predict(X_subset)\n",
    "            mse = np.mean((y - y_pred)**2)\n",
    "            candidate_mse.append(mse)\n",
    "        \n",
    "        best_feature = np.argmin(candidate_mse)\n",
    "        best_mse = candidate_mse[best_feature]\n",
    "        selected_features.append(list(remaining_features)[best_feature])\n",
    "        remaining_features.remove(list(remaining_features)[best_feature])\n",
    "        mse_history.append(best_mse)\n",
    "    \n",
    "    return selected_features, mse_history[-1]"
   ]
  },
  {
   "cell_type": "markdown",
   "id": "57d04e24",
   "metadata": {},
   "source": [
    "## implementing backward function"
   ]
  },
  {
   "cell_type": "code",
   "execution_count": 59,
   "id": "b2f93202",
   "metadata": {},
   "outputs": [],
   "source": [
    "def backward_feature_selection(X, y):\n",
    "    num_features = X.shape[1]\n",
    "    selected_features = [i for i in range(num_features)]\n",
    "    best_mse = np.inf\n",
    "    \n",
    "    for i in range(num_features):\n",
    "        remaining_features = [f for f in range(num_features) if f != i]\n",
    "        mse_list = []\n",
    "        \n",
    "        for f in remaining_features:\n",
    "            features = selected_features[:]\n",
    "            features.remove(f)\n",
    "            X_subset = X[:, features]\n",
    "            \n",
    "            model = LinearRegression()\n",
    "            model.fit(X_subset, y)\n",
    "            y_pred = model.predict(X_subset)\n",
    "            \n",
    "            mse = mean_squared_error(y, y_pred)\n",
    "            mse_list.append(mse)\n",
    "        \n",
    "        if len(mse_list) > 0:\n",
    "            best_feature_idx = np.argmin(mse_list)\n",
    "            if mse_list[best_feature_idx] < best_mse:\n",
    "                best_mse = mse_list[best_feature_idx]\n",
    "                selected_features.remove(i)\n",
    "    \n",
    "    return selected_features, best_mse"
   ]
  },
  {
   "cell_type": "markdown",
   "id": "3d00da70",
   "metadata": {},
   "source": [
    "## testing"
   ]
  },
  {
   "cell_type": "code",
   "execution_count": 60,
   "id": "878b6f42",
   "metadata": {},
   "outputs": [
    {
     "name": "stdout",
     "output_type": "stream",
     "text": [
      "Forward features =  [2, 8, 3, 4, 1, 5, 7, 9, 6, 0]\n",
      "MSE =  2859.6903987680657\n"
     ]
    }
   ],
   "source": [
    "selected_features, best_mse = forward_feature_selection(X, y)\n",
    "print(\"Forward features = \", selected_features)\n",
    "print(\"MSE = \", best_mse)"
   ]
  },
  {
   "cell_type": "code",
   "execution_count": 61,
   "id": "0c43647c",
   "metadata": {},
   "outputs": [
    {
     "name": "stdout",
     "output_type": "stream",
     "text": [
      "Forward features =  [2, 8, 3, 4, 1, 5, 7, 9, 6, 0]\n",
      "MSE =  2859.6903987680657\n"
     ]
    }
   ],
   "source": [
    "selected_features, best_mse = forward_feature_selection(X, y)\n",
    "print(\"Forward features = \", selected_features)\n",
    "print(\"MSE = \", best_mse)"
   ]
  }
 ],
 "metadata": {
  "kernelspec": {
   "display_name": "Python 3 (ipykernel)",
   "language": "python",
   "name": "python3"
  },
  "language_info": {
   "codemirror_mode": {
    "name": "ipython",
    "version": 3
   },
   "file_extension": ".py",
   "mimetype": "text/x-python",
   "name": "python",
   "nbconvert_exporter": "python",
   "pygments_lexer": "ipython3",
   "version": "3.9.13"
  }
 },
 "nbformat": 4,
 "nbformat_minor": 5
}
